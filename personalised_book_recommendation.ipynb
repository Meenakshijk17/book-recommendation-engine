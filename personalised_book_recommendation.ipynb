{
 "cells": [
  {
   "cell_type": "code",
   "execution_count": 1,
   "id": "d7fa1e0a",
   "metadata": {},
   "outputs": [],
   "source": [
    "import pandas as pd\n"
   ]
  },
  {
   "cell_type": "code",
   "execution_count": 11,
   "id": "20935747",
   "metadata": {},
   "outputs": [
    {
     "data": {
      "text/html": [
       "<div>\n",
       "<style scoped>\n",
       "    .dataframe tbody tr th:only-of-type {\n",
       "        vertical-align: middle;\n",
       "    }\n",
       "\n",
       "    .dataframe tbody tr th {\n",
       "        vertical-align: top;\n",
       "    }\n",
       "\n",
       "    .dataframe thead th {\n",
       "        text-align: right;\n",
       "    }\n",
       "</style>\n",
       "<table border=\"1\" class=\"dataframe\">\n",
       "  <thead>\n",
       "    <tr style=\"text-align: right;\">\n",
       "      <th></th>\n",
       "      <th>user_id</th>\n",
       "      <th>book_id</th>\n",
       "      <th>rating</th>\n",
       "      <th>title</th>\n",
       "    </tr>\n",
       "  </thead>\n",
       "  <tbody>\n",
       "    <tr>\n",
       "      <th>0</th>\n",
       "      <td>-1</td>\n",
       "      <td>2517439</td>\n",
       "      <td>5</td>\n",
       "      <td>The Forever War  (The Forever War, #1)</td>\n",
       "    </tr>\n",
       "    <tr>\n",
       "      <th>1</th>\n",
       "      <td>-1</td>\n",
       "      <td>113576</td>\n",
       "      <td>5</td>\n",
       "      <td>The Smartest Guys in the Room: The Amazing Ris...</td>\n",
       "    </tr>\n",
       "    <tr>\n",
       "      <th>2</th>\n",
       "      <td>-1</td>\n",
       "      <td>35100</td>\n",
       "      <td>5</td>\n",
       "      <td>Battle Cry of Freedom</td>\n",
       "    </tr>\n",
       "    <tr>\n",
       "      <th>3</th>\n",
       "      <td>-1</td>\n",
       "      <td>228221</td>\n",
       "      <td>5</td>\n",
       "      <td>The Mask of Command</td>\n",
       "    </tr>\n",
       "    <tr>\n",
       "      <th>5</th>\n",
       "      <td>-1</td>\n",
       "      <td>17662739</td>\n",
       "      <td>5</td>\n",
       "      <td>2001: A Space Odyssey  (Space Odyssey, #1)</td>\n",
       "    </tr>\n",
       "  </tbody>\n",
       "</table>\n",
       "</div>"
      ],
      "text/plain": [
       "   user_id   book_id  rating  \\\n",
       "0       -1   2517439       5   \n",
       "1       -1    113576       5   \n",
       "2       -1     35100       5   \n",
       "3       -1    228221       5   \n",
       "5       -1  17662739       5   \n",
       "\n",
       "                                               title  \n",
       "0             The Forever War  (The Forever War, #1)  \n",
       "1  The Smartest Guys in the Room: The Amazing Ris...  \n",
       "2                              Battle Cry of Freedom  \n",
       "3                                The Mask of Command  \n",
       "5         2001: A Space Odyssey  (Space Odyssey, #1)  "
      ]
     },
     "execution_count": 11,
     "metadata": {},
     "output_type": "execute_result"
    }
   ],
   "source": [
    "my_books = pd.read_csv('liked_books.csv', index_col=0)\n",
    "my_books.head()\n"
   ]
  },
  {
   "cell_type": "code",
   "execution_count": 12,
   "id": "7154d9a1",
   "metadata": {},
   "outputs": [
    {
     "name": "stdout",
     "output_type": "stream",
     "text": [
      "<class 'pandas.core.frame.DataFrame'>\n",
      "Int64Index: 27 entries, 0 to 532\n",
      "Data columns (total 4 columns):\n",
      " #   Column   Non-Null Count  Dtype \n",
      "---  ------   --------------  ----- \n",
      " 0   user_id  27 non-null     int64 \n",
      " 1   book_id  27 non-null     int64 \n",
      " 2   rating   27 non-null     int64 \n",
      " 3   title    27 non-null     object\n",
      "dtypes: int64(3), object(1)\n",
      "memory usage: 1.1+ KB\n"
     ]
    }
   ],
   "source": [
    "my_books.info()"
   ]
  },
  {
   "cell_type": "code",
   "execution_count": 13,
   "id": "4e277177",
   "metadata": {},
   "outputs": [],
   "source": [
    "my_books['book_id'] = my_books['book_id'].astype('str')"
   ]
  },
  {
   "cell_type": "code",
   "execution_count": 14,
   "id": "12ce4f83",
   "metadata": {},
   "outputs": [],
   "source": [
    "book_id_map = {}\n",
    "with open(\"book_id_map.csv\", \"r\") as f:\n",
    "    while True:\n",
    "        line = f.readline()\n",
    "        if not line:\n",
    "            break\n",
    "        id, book_id = line.split(',')\n",
    "        book_id_map[id] = book_id.split('\\n')[0]"
   ]
  },
  {
   "cell_type": "code",
   "execution_count": 15,
   "id": "972655b0",
   "metadata": {},
   "outputs": [],
   "source": [
    "my_books_set = set(my_books[\"book_id\"])"
   ]
  },
  {
   "cell_type": "code",
   "execution_count": 20,
   "id": "fe7ef3d5",
   "metadata": {},
   "outputs": [],
   "source": [
    "similar_users = {}\n",
    "with open(\"goodreads_interactions.csv\", 'r') as f:\n",
    "    while True:\n",
    "        line = f.readline()\n",
    "        if not line:\n",
    "            break\n",
    "        user_id, id, _, rating, _ = line.split(\",\")\n",
    "            \n",
    "#         try:\n",
    "        book_id = book_id_map.get(id)\n",
    "#         except:\n",
    "#             print(line)\n",
    "        \n",
    "        if book_id in my_books_set:\n",
    "            similar_users[user_id] = similar_users.get(user_id, 0) + 1\n",
    "            "
   ]
  },
  {
   "cell_type": "code",
   "execution_count": 21,
   "id": "3cdd6115",
   "metadata": {},
   "outputs": [
    {
     "data": {
      "text/plain": [
       "316341"
      ]
     },
     "execution_count": 21,
     "metadata": {},
     "output_type": "execute_result"
    }
   ],
   "source": [
    "len(similar_users)"
   ]
  },
  {
   "cell_type": "code",
   "execution_count": 22,
   "id": "e158de2b",
   "metadata": {},
   "outputs": [
    {
     "data": {
      "text/plain": [
       "1258"
      ]
     },
     "execution_count": 22,
     "metadata": {},
     "output_type": "execute_result"
    }
   ],
   "source": [
    "# filtering out users who have read at least 20% books similar to that of mine\n",
    "filtered_similar_users = set([user for user in similar_users if similar_users[user] > my_books.shape[0]/5])\n",
    "len(filtered_similar_users)\n"
   ]
  },
  {
   "cell_type": "code",
   "execution_count": 23,
   "id": "3d06879b",
   "metadata": {},
   "outputs": [],
   "source": [
    "similar_users_interactions = [] \n",
    "with open(\"goodreads_interactions.csv\", 'r') as f:\n",
    "    while True:\n",
    "        line = f.readline()\n",
    "        if not line:\n",
    "            break\n",
    "        user_id, id, _, rating, _ = line.split(\",\")\n",
    "        \n",
    "        if user_id in filtered_similar_users:\n",
    "            book_id = book_id_map[id]\n",
    "            similar_users_interactions.append([user_id, book_id, rating])\n",
    "            "
   ]
  },
  {
   "cell_type": "code",
   "execution_count": 24,
   "id": "a080f4a4",
   "metadata": {},
   "outputs": [
    {
     "data": {
      "text/plain": [
       "5638701"
      ]
     },
     "execution_count": 24,
     "metadata": {},
     "output_type": "execute_result"
    }
   ],
   "source": [
    "len(similar_users_interactions)"
   ]
  },
  {
   "cell_type": "code",
   "execution_count": 25,
   "id": "e675fa10",
   "metadata": {},
   "outputs": [],
   "source": [
    "interactions = pd.DataFrame(similar_users_interactions, columns=['user_id', 'book_id', 'rating'])"
   ]
  },
  {
   "cell_type": "code",
   "execution_count": 26,
   "id": "830591b7",
   "metadata": {},
   "outputs": [],
   "source": [
    "interactions = pd.concat([my_books[['user_id', 'book_id', 'rating']], interactions])"
   ]
  },
  {
   "cell_type": "code",
   "execution_count": 29,
   "id": "d45afac2",
   "metadata": {},
   "outputs": [],
   "source": [
    "interactions['user_id'] = interactions['user_id'].astype('str')\n",
    "interactions['book_id'] = interactions['book_id'].astype('str')\n",
    "interactions['rating'] = pd.to_numeric(interactions['rating'])\n"
   ]
  },
  {
   "cell_type": "code",
   "execution_count": 30,
   "id": "bd56023a",
   "metadata": {},
   "outputs": [
    {
     "data": {
      "text/plain": [
       "array(['-1', '282', '874', ..., '442043', '712588', '804100'],\n",
       "      dtype=object)"
      ]
     },
     "execution_count": 30,
     "metadata": {},
     "output_type": "execute_result"
    }
   ],
   "source": [
    "interactions['user_id'].unique()"
   ]
  },
  {
   "cell_type": "code",
   "execution_count": 37,
   "id": "8e63cc02",
   "metadata": {},
   "outputs": [
    {
     "name": "stdout",
     "output_type": "stream",
     "text": [
      "  user_id   book_id  rating  user_index  book_index\n",
      "0      -1   2517439       5           0      414880\n",
      "1      -1    113576       5           0       38971\n",
      "2      -1     35100       5           0      575858\n",
      "3      -1    228221       5           0      356004\n",
      "5      -1  17662739       5           0      214285\n",
      "        user_id  book_id  rating  user_index  book_index\n",
      "5638696  804100   475178       0        1183      617107\n",
      "5638697  804100   186074       0        1183      258768\n",
      "5638698  804100   153008       0        1183      141428\n",
      "5638699  804100    45107       0        1183      611284\n",
      "5638700  804100  1762198       5        1183      213203\n"
     ]
    }
   ],
   "source": [
    "interactions['user_index'] = interactions['user_id'].astype(\"category\").cat.codes\n",
    "interactions['book_index'] = interactions['book_id'].astype(\"category\").cat.codes\n",
    "print(interactions.head())\n",
    "print(interactions.tail())"
   ]
  },
  {
   "cell_type": "markdown",
   "id": "0cc10893",
   "metadata": {},
   "source": [
    "We will create a metrix with user_index as rows, book_index as columns and correspondig user's book rating as the cell value.\n",
    "\n",
    "This will be a *len(interactions['user_index'].unique())* * *len(interactions['book_index'].unique())* matrix and will be sparsely populated. To reduce memory usage, we will create a sparse matrix instead of a dense matrix. In a sparse matrix, if a cell has no value to be assigned, it will be left out blank, thereyby using up no space in the memory."
   ]
  },
  {
   "cell_type": "code",
   "execution_count": 38,
   "id": "b475553e",
   "metadata": {},
   "outputs": [],
   "source": [
    "from scipy.sparse import coo_matrix # a type of sparse matrix\n",
    "\n",
    "ratings_mat_coo = coo_matrix((interactions.rating, (interactions.user_index, interactions.book_index)))"
   ]
  },
  {
   "cell_type": "code",
   "execution_count": 39,
   "id": "916a90ed",
   "metadata": {},
   "outputs": [
    {
     "data": {
      "text/plain": [
       "<1259x802870 sparse matrix of type '<class 'numpy.int64'>'\n",
       "\twith 5638728 stored elements in COOrdinate format>"
      ]
     },
     "execution_count": 39,
     "metadata": {},
     "output_type": "execute_result"
    }
   ],
   "source": [
    "ratings_mat_coo"
   ]
  },
  {
   "cell_type": "markdown",
   "id": "de9718fa",
   "metadata": {},
   "source": [
    "If it weren't created as a sparse matrix, it would have taken up 1259 x 802870 = 1010813330."
   ]
  },
  {
   "cell_type": "code",
   "execution_count": 40,
   "id": "95181ce7",
   "metadata": {},
   "outputs": [
    {
     "data": {
      "text/plain": [
       "<1259x802870 sparse matrix of type '<class 'numpy.int64'>'\n",
       "\twith 5638728 stored elements in Compressed Sparse Row format>"
      ]
     },
     "execution_count": 40,
     "metadata": {},
     "output_type": "execute_result"
    }
   ],
   "source": [
    "# because csr matrix is equired for further computations and coo matrices are easier to create\n",
    "ratings_mat = ratings_mat_coo.tocsr()\n",
    "ratings_mat\n"
   ]
  },
  {
   "cell_type": "code",
   "execution_count": 44,
   "id": "5a404a3a",
   "metadata": {},
   "outputs": [],
   "source": [
    "# identifying my row in the matrix (= my user_index)\n",
    "my_index = interactions[interactions.user_id == \"-1\"].loc[0, 'user_index']"
   ]
  },
  {
   "cell_type": "markdown",
   "id": "45f640d2",
   "metadata": {},
   "source": [
    "Now, we will use cosine similarity to identify the most similar users."
   ]
  },
  {
   "cell_type": "code",
   "execution_count": 46,
   "id": "759c4071",
   "metadata": {},
   "outputs": [
    {
     "data": {
      "text/plain": [
       "array([1.        , 0.04579826, 0.06143443, ..., 0.        , 0.00393254,\n",
       "       0.02317069])"
      ]
     },
     "execution_count": 46,
     "metadata": {},
     "output_type": "execute_result"
    }
   ],
   "source": [
    "from sklearn.metrics.pairwise import cosine_similarity\n",
    "\n",
    "similarity = cosine_similarity(ratings_mat[my_index, :], ratings_mat).flatten()\n",
    "similarity\n"
   ]
  },
  {
   "cell_type": "markdown",
   "id": "9ccd6187",
   "metadata": {},
   "source": [
    "The similarity value 1 in the first position indicates that I am fuly similar to myself. Obviously :P"
   ]
  },
  {
   "cell_type": "code",
   "execution_count": 61,
   "id": "bf7fe546",
   "metadata": {},
   "outputs": [
    {
     "data": {
      "text/plain": [
       "array([1188,  942,  129, 1208, 1213,  435,  218,  795,  496, 1210,  294,\n",
       "        321,  862, 1143,    0], dtype=int64)"
      ]
     },
     "execution_count": 61,
     "metadata": {},
     "output_type": "execute_result"
    }
   ],
   "source": [
    "import numpy as np\n",
    "\n",
    "indices = np.argsort(similarity)[-15:] # top 15 similar users\n",
    "indices"
   ]
  },
  {
   "cell_type": "code",
   "execution_count": 62,
   "id": "b3a14bfb",
   "metadata": {},
   "outputs": [
    {
     "data": {
      "text/html": [
       "<div>\n",
       "<style scoped>\n",
       "    .dataframe tbody tr th:only-of-type {\n",
       "        vertical-align: middle;\n",
       "    }\n",
       "\n",
       "    .dataframe tbody tr th {\n",
       "        vertical-align: top;\n",
       "    }\n",
       "\n",
       "    .dataframe thead th {\n",
       "        text-align: right;\n",
       "    }\n",
       "</style>\n",
       "<table border=\"1\" class=\"dataframe\">\n",
       "  <thead>\n",
       "    <tr style=\"text-align: right;\">\n",
       "      <th></th>\n",
       "      <th>user_id</th>\n",
       "      <th>book_id</th>\n",
       "      <th>rating</th>\n",
       "      <th>user_index</th>\n",
       "      <th>book_index</th>\n",
       "    </tr>\n",
       "  </thead>\n",
       "  <tbody>\n",
       "    <tr>\n",
       "      <th>472439</th>\n",
       "      <td>36497</td>\n",
       "      <td>257845</td>\n",
       "      <td>5</td>\n",
       "      <td>795</td>\n",
       "      <td>435943</td>\n",
       "    </tr>\n",
       "    <tr>\n",
       "      <th>472440</th>\n",
       "      <td>36497</td>\n",
       "      <td>2767052</td>\n",
       "      <td>5</td>\n",
       "      <td>795</td>\n",
       "      <td>472031</td>\n",
       "    </tr>\n",
       "    <tr>\n",
       "      <th>472441</th>\n",
       "      <td>36497</td>\n",
       "      <td>6148028</td>\n",
       "      <td>4</td>\n",
       "      <td>795</td>\n",
       "      <td>656087</td>\n",
       "    </tr>\n",
       "    <tr>\n",
       "      <th>472442</th>\n",
       "      <td>36497</td>\n",
       "      <td>7260188</td>\n",
       "      <td>3</td>\n",
       "      <td>795</td>\n",
       "      <td>709494</td>\n",
       "    </tr>\n",
       "    <tr>\n",
       "      <th>472443</th>\n",
       "      <td>36497</td>\n",
       "      <td>7170627</td>\n",
       "      <td>5</td>\n",
       "      <td>795</td>\n",
       "      <td>706571</td>\n",
       "    </tr>\n",
       "  </tbody>\n",
       "</table>\n",
       "</div>"
      ],
      "text/plain": [
       "       user_id  book_id  rating  user_index  book_index\n",
       "472439   36497   257845       5         795      435943\n",
       "472440   36497  2767052       5         795      472031\n",
       "472441   36497  6148028       4         795      656087\n",
       "472442   36497  7260188       3         795      709494\n",
       "472443   36497  7170627       5         795      706571"
      ]
     },
     "execution_count": 62,
     "metadata": {},
     "output_type": "execute_result"
    }
   ],
   "source": [
    "users = interactions[interactions.user_index.isin(indices) & interactions.user_index != my_index].copy()\n",
    "users.head()"
   ]
  },
  {
   "cell_type": "code",
   "execution_count": 63,
   "id": "27ec687c",
   "metadata": {},
   "outputs": [
    {
     "data": {
      "text/plain": [
       "(1237, 5)"
      ]
     },
     "execution_count": 63,
     "metadata": {},
     "output_type": "execute_result"
    }
   ],
   "source": [
    "users.shape"
   ]
  },
  {
   "cell_type": "code",
   "execution_count": 65,
   "id": "b875a5bf",
   "metadata": {},
   "outputs": [
    {
     "data": {
      "text/html": [
       "<div>\n",
       "<style scoped>\n",
       "    .dataframe tbody tr th:only-of-type {\n",
       "        vertical-align: middle;\n",
       "    }\n",
       "\n",
       "    .dataframe tbody tr th {\n",
       "        vertical-align: top;\n",
       "    }\n",
       "\n",
       "    .dataframe thead th {\n",
       "        text-align: right;\n",
       "    }\n",
       "</style>\n",
       "<table border=\"1\" class=\"dataframe\">\n",
       "  <thead>\n",
       "    <tr style=\"text-align: right;\">\n",
       "      <th></th>\n",
       "      <th>count</th>\n",
       "      <th>mean</th>\n",
       "    </tr>\n",
       "    <tr>\n",
       "      <th>book_id</th>\n",
       "      <th></th>\n",
       "      <th></th>\n",
       "    </tr>\n",
       "  </thead>\n",
       "  <tbody>\n",
       "    <tr>\n",
       "      <th>1</th>\n",
       "      <td>2</td>\n",
       "      <td>4.5</td>\n",
       "    </tr>\n",
       "    <tr>\n",
       "      <th>100365</th>\n",
       "      <td>1</td>\n",
       "      <td>0.0</td>\n",
       "    </tr>\n",
       "    <tr>\n",
       "      <th>1005</th>\n",
       "      <td>1</td>\n",
       "      <td>0.0</td>\n",
       "    </tr>\n",
       "    <tr>\n",
       "      <th>100629</th>\n",
       "      <td>1</td>\n",
       "      <td>0.0</td>\n",
       "    </tr>\n",
       "    <tr>\n",
       "      <th>100834</th>\n",
       "      <td>1</td>\n",
       "      <td>0.0</td>\n",
       "    </tr>\n",
       "  </tbody>\n",
       "</table>\n",
       "</div>"
      ],
      "text/plain": [
       "         count  mean\n",
       "book_id             \n",
       "1            2   4.5\n",
       "100365       1   0.0\n",
       "1005         1   0.0\n",
       "100629       1   0.0\n",
       "100834       1   0.0"
      ]
     },
     "execution_count": 65,
     "metadata": {},
     "output_type": "execute_result"
    }
   ],
   "source": [
    "# finding the average rating given by similar users to the books they read\n",
    "book_recs = users.groupby('book_id').rating.agg(['count', 'mean'])\n",
    "book_recs.head()"
   ]
  },
  {
   "cell_type": "code",
   "execution_count": 66,
   "id": "04df7c3d",
   "metadata": {},
   "outputs": [],
   "source": [
    "# fetching book metadata\n",
    "books_data = pd.read_json('books.json')\n",
    "books_data['book_id'] = books_data['book_id'].astype('str')"
   ]
  },
  {
   "cell_type": "code",
   "execution_count": 67,
   "id": "d7def6f8",
   "metadata": {},
   "outputs": [
    {
     "data": {
      "text/html": [
       "<div>\n",
       "<style scoped>\n",
       "    .dataframe tbody tr th:only-of-type {\n",
       "        vertical-align: middle;\n",
       "    }\n",
       "\n",
       "    .dataframe tbody tr th {\n",
       "        vertical-align: top;\n",
       "    }\n",
       "\n",
       "    .dataframe thead th {\n",
       "        text-align: right;\n",
       "    }\n",
       "</style>\n",
       "<table border=\"1\" class=\"dataframe\">\n",
       "  <thead>\n",
       "    <tr style=\"text-align: right;\">\n",
       "      <th></th>\n",
       "      <th>book_id</th>\n",
       "      <th>count</th>\n",
       "      <th>mean</th>\n",
       "      <th>title</th>\n",
       "      <th>ratings</th>\n",
       "      <th>url</th>\n",
       "      <th>cover_image</th>\n",
       "      <th>processed_title</th>\n",
       "    </tr>\n",
       "  </thead>\n",
       "  <tbody>\n",
       "    <tr>\n",
       "      <th>0</th>\n",
       "      <td>1</td>\n",
       "      <td>2</td>\n",
       "      <td>4.5</td>\n",
       "      <td>Harry Potter and the Half-Blood Prince (Harry ...</td>\n",
       "      <td>1713866</td>\n",
       "      <td>https://www.goodreads.com/book/show/1.Harry_Po...</td>\n",
       "      <td>https://images.gr-assets.com/books/1361039191m...</td>\n",
       "      <td>harry potter and the halfblood prince harry po...</td>\n",
       "    </tr>\n",
       "    <tr>\n",
       "      <th>1</th>\n",
       "      <td>100365</td>\n",
       "      <td>1</td>\n",
       "      <td>0.0</td>\n",
       "      <td>The Mote in God's Eye</td>\n",
       "      <td>48736</td>\n",
       "      <td>https://www.goodreads.com/book/show/100365.The...</td>\n",
       "      <td>https://images.gr-assets.com/books/1399490037m...</td>\n",
       "      <td>the mote in gods eye</td>\n",
       "    </tr>\n",
       "    <tr>\n",
       "      <th>2</th>\n",
       "      <td>1005</td>\n",
       "      <td>1</td>\n",
       "      <td>0.0</td>\n",
       "      <td>Think and Grow Rich</td>\n",
       "      <td>87634</td>\n",
       "      <td>https://www.goodreads.com/book/show/1005.Think...</td>\n",
       "      <td>https://s.gr-assets.com/assets/nophoto/book/11...</td>\n",
       "      <td>think and grow rich</td>\n",
       "    </tr>\n",
       "    <tr>\n",
       "      <th>3</th>\n",
       "      <td>100629</td>\n",
       "      <td>1</td>\n",
       "      <td>0.0</td>\n",
       "      <td>The Universe in a Single Atom: The Convergence...</td>\n",
       "      <td>6310</td>\n",
       "      <td>https://www.goodreads.com/book/show/100629.The...</td>\n",
       "      <td>https://images.gr-assets.com/books/1320558690m...</td>\n",
       "      <td>the universe in a single atom the convergence ...</td>\n",
       "    </tr>\n",
       "    <tr>\n",
       "      <th>4</th>\n",
       "      <td>100834</td>\n",
       "      <td>1</td>\n",
       "      <td>0.0</td>\n",
       "      <td>A World Undone: The Story of the Great War, 19...</td>\n",
       "      <td>2959</td>\n",
       "      <td>https://www.goodreads.com/book/show/100834.A_W...</td>\n",
       "      <td>https://s.gr-assets.com/assets/nophoto/book/11...</td>\n",
       "      <td>a world undone the story of the great war 1914...</td>\n",
       "    </tr>\n",
       "  </tbody>\n",
       "</table>\n",
       "</div>"
      ],
      "text/plain": [
       "  book_id  count  mean                                              title  \\\n",
       "0       1      2   4.5  Harry Potter and the Half-Blood Prince (Harry ...   \n",
       "1  100365      1   0.0                              The Mote in God's Eye   \n",
       "2    1005      1   0.0                                Think and Grow Rich   \n",
       "3  100629      1   0.0  The Universe in a Single Atom: The Convergence...   \n",
       "4  100834      1   0.0  A World Undone: The Story of the Great War, 19...   \n",
       "\n",
       "   ratings                                                url  \\\n",
       "0  1713866  https://www.goodreads.com/book/show/1.Harry_Po...   \n",
       "1    48736  https://www.goodreads.com/book/show/100365.The...   \n",
       "2    87634  https://www.goodreads.com/book/show/1005.Think...   \n",
       "3     6310  https://www.goodreads.com/book/show/100629.The...   \n",
       "4     2959  https://www.goodreads.com/book/show/100834.A_W...   \n",
       "\n",
       "                                         cover_image  \\\n",
       "0  https://images.gr-assets.com/books/1361039191m...   \n",
       "1  https://images.gr-assets.com/books/1399490037m...   \n",
       "2  https://s.gr-assets.com/assets/nophoto/book/11...   \n",
       "3  https://images.gr-assets.com/books/1320558690m...   \n",
       "4  https://s.gr-assets.com/assets/nophoto/book/11...   \n",
       "\n",
       "                                     processed_title  \n",
       "0  harry potter and the halfblood prince harry po...  \n",
       "1                               the mote in gods eye  \n",
       "2                                think and grow rich  \n",
       "3  the universe in a single atom the convergence ...  \n",
       "4  a world undone the story of the great war 1914...  "
      ]
     },
     "execution_count": 67,
     "metadata": {},
     "output_type": "execute_result"
    }
   ],
   "source": [
    "book_recs = book_recs.merge(books_data, on='book_id', how='inner')\n",
    "book_recs.head()"
   ]
  },
  {
   "cell_type": "code",
   "execution_count": 68,
   "id": "89e79190",
   "metadata": {},
   "outputs": [],
   "source": [
    "# adjusting or penalising for popularity\n",
    "# really popular among users like me but weren't as popular among users unlike me\n",
    "book_recs['adjusted_count'] = book_recs['count'] * book_recs['count']/book_recs['ratings']"
   ]
  },
  {
   "cell_type": "code",
   "execution_count": 69,
   "id": "59f9a98d",
   "metadata": {},
   "outputs": [],
   "source": [
    "book_recs['score'] = book_recs['mean'] * book_recs['adjusted_count']"
   ]
  },
  {
   "cell_type": "code",
   "execution_count": 70,
   "id": "4fdca3ea",
   "metadata": {},
   "outputs": [],
   "source": [
    "# removing books that I already read\n",
    "book_recs = book_recs[~book_recs.book_id.isin(my_books.book_id)]\n",
    "\n",
    "# processing book titles to remove same but differently formatted book titles\n",
    "my_books['processed_title'] = my_books['title'].str.lower()\n",
    "my_books['processed_title'] = my_books['processed_title'].str.replace('[^a-z0-9 ]', '', regex=True)\n",
    "my_books['processed_title'] = my_books['processed_title'].str.replace('\\s+', ' ', regex=True)\n",
    "my_books['processed_title'] = my_books['processed_title'].str.strip()\n",
    "\n",
    "book_recs = book_recs[~book_recs.processed_title.isin(my_books.processed_title)]"
   ]
  },
  {
   "cell_type": "code",
   "execution_count": 74,
   "id": "6ee7fdb6",
   "metadata": {},
   "outputs": [],
   "source": [
    "# at least three users should have read it & mean rating > 4\n",
    "book_recs = book_recs[book_recs['count'] > 2]\n",
    "book_recs = book_recs[book_recs['mean'] > 4]"
   ]
  },
  {
   "cell_type": "code",
   "execution_count": 75,
   "id": "49987b83",
   "metadata": {},
   "outputs": [
    {
     "data": {
      "text/plain": [
       "(4, 10)"
      ]
     },
     "execution_count": 75,
     "metadata": {},
     "output_type": "execute_result"
    }
   ],
   "source": [
    "book_recs.shape"
   ]
  },
  {
   "cell_type": "code",
   "execution_count": 76,
   "id": "161bcff3",
   "metadata": {},
   "outputs": [
    {
     "data": {
      "text/html": [
       "<div>\n",
       "<style scoped>\n",
       "    .dataframe tbody tr th:only-of-type {\n",
       "        vertical-align: middle;\n",
       "    }\n",
       "\n",
       "    .dataframe tbody tr th {\n",
       "        vertical-align: top;\n",
       "    }\n",
       "\n",
       "    .dataframe thead th {\n",
       "        text-align: right;\n",
       "    }\n",
       "</style>\n",
       "<table border=\"1\" class=\"dataframe\">\n",
       "  <thead>\n",
       "    <tr style=\"text-align: right;\">\n",
       "      <th></th>\n",
       "      <th>book_id</th>\n",
       "      <th>count</th>\n",
       "      <th>mean</th>\n",
       "      <th>title</th>\n",
       "      <th>ratings</th>\n",
       "      <th>url</th>\n",
       "      <th>cover_image</th>\n",
       "      <th>processed_title</th>\n",
       "      <th>adjusted_count</th>\n",
       "      <th>score</th>\n",
       "    </tr>\n",
       "  </thead>\n",
       "  <tbody>\n",
       "    <tr>\n",
       "      <th>5</th>\n",
       "      <td>100915</td>\n",
       "      <td>3</td>\n",
       "      <td>4.666667</td>\n",
       "      <td>The Lion, the Witch, and the Wardrobe (Chronic...</td>\n",
       "      <td>1575387</td>\n",
       "      <td>https://www.goodreads.com/book/show/100915.The...</td>\n",
       "      <td>https://images.gr-assets.com/books/1353029077m...</td>\n",
       "      <td>the lion the witch and the wardrobe chronicles...</td>\n",
       "      <td>0.000006</td>\n",
       "      <td>0.000027</td>\n",
       "    </tr>\n",
       "    <tr>\n",
       "      <th>420</th>\n",
       "      <td>2429135</td>\n",
       "      <td>3</td>\n",
       "      <td>4.666667</td>\n",
       "      <td>The Girl with the Dragon Tattoo (Millennium, #1)</td>\n",
       "      <td>1858152</td>\n",
       "      <td>https://www.goodreads.com/book/show/2429135.Th...</td>\n",
       "      <td>https://images.gr-assets.com/books/1327868566m...</td>\n",
       "      <td>the girl with the dragon tattoo millennium 1</td>\n",
       "      <td>0.000005</td>\n",
       "      <td>0.000023</td>\n",
       "    </tr>\n",
       "    <tr>\n",
       "      <th>489</th>\n",
       "      <td>2767052</td>\n",
       "      <td>4</td>\n",
       "      <td>4.750000</td>\n",
       "      <td>The Hunger Games (The Hunger Games, #1)</td>\n",
       "      <td>4899965</td>\n",
       "      <td>https://www.goodreads.com/book/show/2767052-th...</td>\n",
       "      <td>https://images.gr-assets.com/books/1447303603m...</td>\n",
       "      <td>the hunger games the hunger games 1</td>\n",
       "      <td>0.000003</td>\n",
       "      <td>0.000016</td>\n",
       "    </tr>\n",
       "    <tr>\n",
       "      <th>469</th>\n",
       "      <td>2657</td>\n",
       "      <td>3</td>\n",
       "      <td>4.666667</td>\n",
       "      <td>To Kill a Mockingbird</td>\n",
       "      <td>3255518</td>\n",
       "      <td>https://www.goodreads.com/book/show/2657.To_Ki...</td>\n",
       "      <td>https://images.gr-assets.com/books/1361975680m...</td>\n",
       "      <td>to kill a mockingbird</td>\n",
       "      <td>0.000003</td>\n",
       "      <td>0.000013</td>\n",
       "    </tr>\n",
       "  </tbody>\n",
       "</table>\n",
       "</div>"
      ],
      "text/plain": [
       "     book_id  count      mean  \\\n",
       "5     100915      3  4.666667   \n",
       "420  2429135      3  4.666667   \n",
       "489  2767052      4  4.750000   \n",
       "469     2657      3  4.666667   \n",
       "\n",
       "                                                 title  ratings  \\\n",
       "5    The Lion, the Witch, and the Wardrobe (Chronic...  1575387   \n",
       "420   The Girl with the Dragon Tattoo (Millennium, #1)  1858152   \n",
       "489            The Hunger Games (The Hunger Games, #1)  4899965   \n",
       "469                              To Kill a Mockingbird  3255518   \n",
       "\n",
       "                                                   url  \\\n",
       "5    https://www.goodreads.com/book/show/100915.The...   \n",
       "420  https://www.goodreads.com/book/show/2429135.Th...   \n",
       "489  https://www.goodreads.com/book/show/2767052-th...   \n",
       "469  https://www.goodreads.com/book/show/2657.To_Ki...   \n",
       "\n",
       "                                           cover_image  \\\n",
       "5    https://images.gr-assets.com/books/1353029077m...   \n",
       "420  https://images.gr-assets.com/books/1327868566m...   \n",
       "489  https://images.gr-assets.com/books/1447303603m...   \n",
       "469  https://images.gr-assets.com/books/1361975680m...   \n",
       "\n",
       "                                       processed_title  adjusted_count  \\\n",
       "5    the lion the witch and the wardrobe chronicles...        0.000006   \n",
       "420       the girl with the dragon tattoo millennium 1        0.000005   \n",
       "489                the hunger games the hunger games 1        0.000003   \n",
       "469                              to kill a mockingbird        0.000003   \n",
       "\n",
       "        score  \n",
       "5    0.000027  \n",
       "420  0.000023  \n",
       "489  0.000016  \n",
       "469  0.000013  "
      ]
     },
     "execution_count": 76,
     "metadata": {},
     "output_type": "execute_result"
    }
   ],
   "source": [
    "top_recs = book_recs.sort_values(\"score\", ascending=False)\n",
    "top_recs"
   ]
  },
  {
   "cell_type": "code",
   "execution_count": 78,
   "id": "9748db57",
   "metadata": {},
   "outputs": [
    {
     "data": {
      "text/html": [
       "<style  type=\"text/css\" >\n",
       "</style><table id=\"T_b8465_\" ><thead>    <tr>        <th class=\"blank level0\" ></th>        <th class=\"col_heading level0 col0\" >title</th>        <th class=\"col_heading level0 col1\" >ratings</th>        <th class=\"col_heading level0 col2\" >url</th>        <th class=\"col_heading level0 col3\" >cover_image</th>    </tr></thead><tbody>\n",
       "                <tr>\n",
       "                        <th id=\"T_b8465_level0_row0\" class=\"row_heading level0 row0\" >5</th>\n",
       "                        <td id=\"T_b8465_row0_col0\" class=\"data row0 col0\" >The Lion, the Witch, and the Wardrobe (Chronicles of Narnia, #1)</td>\n",
       "                        <td id=\"T_b8465_row0_col1\" class=\"data row0 col1\" >1575387</td>\n",
       "                        <td id=\"T_b8465_row0_col2\" class=\"data row0 col2\" ><a target=\"_blank\" href=\"https://www.goodreads.com/book/show/100915.The_Lion_the_Witch_and_the_Wardrobe\">Goodreads</a></td>\n",
       "                        <td id=\"T_b8465_row0_col3\" class=\"data row0 col3\" ><img src=\"https://images.gr-assets.com/books/1353029077m/100915.jpg\" width=50></img></td>\n",
       "            </tr>\n",
       "            <tr>\n",
       "                        <th id=\"T_b8465_level0_row1\" class=\"row_heading level0 row1\" >420</th>\n",
       "                        <td id=\"T_b8465_row1_col0\" class=\"data row1 col0\" >The Girl with the Dragon Tattoo (Millennium, #1)</td>\n",
       "                        <td id=\"T_b8465_row1_col1\" class=\"data row1 col1\" >1858152</td>\n",
       "                        <td id=\"T_b8465_row1_col2\" class=\"data row1 col2\" ><a target=\"_blank\" href=\"https://www.goodreads.com/book/show/2429135.The_Girl_with_the_Dragon_Tattoo\">Goodreads</a></td>\n",
       "                        <td id=\"T_b8465_row1_col3\" class=\"data row1 col3\" ><img src=\"https://images.gr-assets.com/books/1327868566m/2429135.jpg\" width=50></img></td>\n",
       "            </tr>\n",
       "            <tr>\n",
       "                        <th id=\"T_b8465_level0_row2\" class=\"row_heading level0 row2\" >489</th>\n",
       "                        <td id=\"T_b8465_row2_col0\" class=\"data row2 col0\" >The Hunger Games (The Hunger Games, #1)</td>\n",
       "                        <td id=\"T_b8465_row2_col1\" class=\"data row2 col1\" >4899965</td>\n",
       "                        <td id=\"T_b8465_row2_col2\" class=\"data row2 col2\" ><a target=\"_blank\" href=\"https://www.goodreads.com/book/show/2767052-the-hunger-games\">Goodreads</a></td>\n",
       "                        <td id=\"T_b8465_row2_col3\" class=\"data row2 col3\" ><img src=\"https://images.gr-assets.com/books/1447303603m/2767052.jpg\" width=50></img></td>\n",
       "            </tr>\n",
       "            <tr>\n",
       "                        <th id=\"T_b8465_level0_row3\" class=\"row_heading level0 row3\" >469</th>\n",
       "                        <td id=\"T_b8465_row3_col0\" class=\"data row3 col0\" >To Kill a Mockingbird</td>\n",
       "                        <td id=\"T_b8465_row3_col1\" class=\"data row3 col1\" >3255518</td>\n",
       "                        <td id=\"T_b8465_row3_col2\" class=\"data row3 col2\" ><a target=\"_blank\" href=\"https://www.goodreads.com/book/show/2657.To_Kill_a_Mockingbird\">Goodreads</a></td>\n",
       "                        <td id=\"T_b8465_row3_col3\" class=\"data row3 col3\" ><img src=\"https://images.gr-assets.com/books/1361975680m/2657.jpg\" width=50></img></td>\n",
       "            </tr>\n",
       "    </tbody></table>"
      ],
      "text/plain": [
       "<pandas.io.formats.style.Styler at 0x21805552df0>"
      ]
     },
     "execution_count": 78,
     "metadata": {},
     "output_type": "execute_result"
    }
   ],
   "source": [
    "def url_format(url):\n",
    "    return(f'<a target=\"_blank\" href=\"{url}\">Goodreads</a>')\n",
    "\n",
    "def display_image(image):\n",
    "    return(f'<img src=\"{image}\" width=50></img>')\n",
    "\n",
    "top_recs[['title', 'ratings', 'url', 'cover_image']].head(5).style.format({'url': url_format, 'cover_image': display_image})"
   ]
  },
  {
   "cell_type": "code",
   "execution_count": null,
   "id": "67e08a39",
   "metadata": {},
   "outputs": [],
   "source": []
  }
 ],
 "metadata": {
  "kernelspec": {
   "display_name": "Python 3",
   "language": "python",
   "name": "python3"
  },
  "language_info": {
   "codemirror_mode": {
    "name": "ipython",
    "version": 3
   },
   "file_extension": ".py",
   "mimetype": "text/x-python",
   "name": "python",
   "nbconvert_exporter": "python",
   "pygments_lexer": "ipython3",
   "version": "3.8.8"
  }
 },
 "nbformat": 4,
 "nbformat_minor": 5
}
